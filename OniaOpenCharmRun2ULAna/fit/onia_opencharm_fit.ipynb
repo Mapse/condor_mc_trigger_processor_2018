{
 "cells": [
  {
   "cell_type": "code",
   "execution_count": null,
   "metadata": {},
   "outputs": [],
   "source": [
    "import zfit\n",
    "from zfit import z\n",
    "import tensorflow as tf\n",
    "import numpy as np\n",
    "import matplotlib.pyplot as plt\n",
    "\n",
    "from coffea.analysis_objects import JaggedCandidateArray\n",
    "from coffea.util import load"
   ]
  },
  {
   "cell_type": "code",
   "execution_count": null,
   "metadata": {},
   "outputs": [],
   "source": [
    "# Model definition\n",
    "\n",
    "## CrystalBall test\n",
    "\n",
    "crystal = True\n",
    "\n",
    "# Mass observable\n",
    "obs = zfit.Space('jpsi mass', (2.95, 3.25))\n",
    "\n",
    "# Mean\n",
    "mu = zfit.Parameter('mean2', 3.09, 2.95, 3.15)\n",
    "\n",
    "# Error\n",
    "sigma = zfit.Parameter('sigma2', 0.05, 0.0, 1.0)\n",
    "\n",
    "# alpha\n",
    "alpha_sig = zfit.Parameter('alpha', 1, 0, 10)\n",
    "\n",
    "# n signal\n",
    "n_sig = zfit.Parameter('n_sig', 90, 0.1, 120)\n",
    "\n",
    "signal = zfit.pdf.CrystalBall(obs=obs, mu=mu, sigma=sigma, alpha=alpha_sig, n=n_sig)\n",
    "\n",
    "signal_yield = zfit.Parameter('yield_model', 443804, 0, 1000000000, step_size=10)\n",
    "\n",
    "signal_ext = signal.create_extended(signal_yield)\n",
    "\n",
    "# Background definition\n",
    "\n",
    "## exponential test\n",
    "\n",
    "lambd = zfit.Parameter(\"lambda\", -0.1, -5, -0.01)\n",
    "exponential = zfit.pdf.Exponential(lambd, obs=obs)\n",
    "\n",
    "background_yield = zfit.Parameter('yield_back', 58584, 0, 1000000000, step_size=1)\n",
    "\n",
    "background_ext = exponential.create_extended(background_yield)\n",
    "\n",
    "# model function\n",
    "\n",
    "model = zfit.pdf.SumPDF([signal_ext, background_ext])"
   ]
  },
  {
   "cell_type": "code",
   "execution_count": null,
   "metadata": {},
   "outputs": [],
   "source": [
    "# import histogram\n",
    "#jpsi_mass = load(\"../output/test_plot/hist/hist_Dimu_mass.hist\")\n",
    "\n",
    "data = load(\"../output/test_plot/merged/test_plot_merged.coffea\")\n",
    "\n",
    "getmass = data['Dimu'].get('__fast_mass')\n",
    "\n",
    "mass_data = getmass._value\n",
    "\n",
    "# take the data\n",
    "#massdata = jpsi_mass.to_numpy()\n",
    "#mass = massdata[1]\n",
    "\n",
    "#dictmap = dict(zip(jpsi_mass.to_numpy()[0], jpsi_mass.to_numpy()[1]))\n",
    "\n",
    "#data = np.concatenate([np.full(int(key), value) for key, value in dictmap.items()])    \n",
    "\n",
    "# Convert for zfit data format\n",
    "datafit = zfit.Data.from_numpy(obs=obs, array=mass_data)"
   ]
  },
  {
   "cell_type": "code",
   "execution_count": null,
   "metadata": {},
   "outputs": [],
   "source": [
    "# plot the pdf before fitting\n",
    "plt.figure()\n",
    "plt.title(\"Before fitting\")\n",
    "\n",
    "# plot the data\n",
    "plt.hist(mass_data, color='black', bins=50, histtype=\"stepfilled\", alpha=0.1)\n",
    "plt.hist(mass_data, color='black', bins=50, histtype='step')\n",
    "\n",
    "# plot the pdf\n",
    "if crystal:\n",
    "    mu.set_value(3.09)\n",
    "    sigma.set_value(0.05)\n",
    "    alpha_sig.set_value(1)\n",
    "    n_sig.set_value(4)\n",
    "    lambd.set_value(0.01)\n",
    "\n",
    "x = np.linspace(2.95, 3.25, 1000)\n",
    "y = model.pdf(x).numpy()\n",
    "\n",
    "n_sample = len(mass_data)\n",
    "n_bins = 46\n",
    "\n",
    "plot_scaling = n_sample / n_bins * obs.area()\n",
    "\n",
    "plt.plot(x, y * plot_scaling, label=\"CrystalBall\", linewidth=2.5)\n",
    "plt.plot"
   ]
  },
  {
   "cell_type": "code",
   "execution_count": null,
   "metadata": {},
   "outputs": [],
   "source": [
    "# create NLL\n",
    "nll = zfit.loss.ExtendedUnbinnedNLL(model=model, data=datafit)\n",
    "\n",
    "# create a minimizer\n",
    "minimizer = zfit.minimize.Minuit()\n",
    "result = minimizer.minimize(nll)\n",
    "\n",
    "# do the error calculations, here with minos\n",
    "param_erros, _ = result.errors(method='minuit_minos')"
   ]
  },
  {
   "cell_type": "code",
   "execution_count": 6,
   "metadata": {},
   "outputs": [
    {
     "data": {
      "text/plain": [
       "<function matplotlib.pyplot.plot(*args, scalex=True, scaley=True, data=None, **kwargs)>"
      ]
     },
     "execution_count": 6,
     "metadata": {},
     "output_type": "execute_result"
    },
    {
     "data": {
      "image/png": "[encoded data removed]",
      "text/plain": [
       "<Figure size 432x288 with 1 Axes>"
      ]
     },
     "metadata": {
      "needs_background": "light"
     },
     "output_type": "display_data"
    }
   ],
   "source": [
    "plt.figure()\n",
    "plt.title(\"After fitting\")\n",
    "\n",
    "# plot the data\n",
    "plt.hist(mass_data, color='black', bins=50, histtype=\"stepfilled\", alpha=0.1)\n",
    "plt.hist(mass_data, color='black', bins=50, histtype='step')\n",
    "\n",
    "# plot the pdf\n",
    "x = np.linspace(2.95, 3.25, 1000)\n",
    "y = model.pdf(x).numpy()\n",
    "\n",
    "n_bins = 46\n",
    "\n",
    "plot_scaling = n_sample / n_bins * obs.area()\n",
    "\n",
    "plt.plot(x, y * plot_scaling, label=\"CrystalBall\", linewidth=2.5)\n",
    "plt.plot"
   ]
  },
  {
   "cell_type": "code",
   "execution_count": 7,
   "metadata": {},
   "outputs": [
    {
     "data": {
      "text/plain": [
       "{<zfit.Parameter 'yield_model' floating=True value=4.438e+05>: {'value': 443804.01298210747,\n",
       "  'minuit_minos': ┌──────────┬───────────────────────┐\n",
       "│          │      yield_model      │\n",
       "├──────────┼───────────┬───────────┤\n",
       "│  Error   │  -0.8e3   │   0.8e3   │\n",
       "│  Valid   │   True    │   True    │\n",
       "│ At Limit │   False   │   False   │\n",
       "│ Max FCN  │   False   │   False   │\n",
       "│ New Min  │   False   │   False   │\n",
       "└──────────┴───────────┴───────────┘},\n",
       " <zfit.Parameter 'yield_back' floating=True value=5.858e+04>: {'value': 58584.68884806234,\n",
       "  'minuit_minos': ┌──────────┬───────────────────────┐\n",
       "│          │      yield_back       │\n",
       "├──────────┼───────────┬───────────┤\n",
       "│  Error   │  -0.5e3   │   0.5e3   │\n",
       "│  Valid   │   True    │   True    │\n",
       "│ At Limit │   False   │   False   │\n",
       "│ Max FCN  │   False   │   False   │\n",
       "│ New Min  │   False   │   False   │\n",
       "└──────────┴───────────┴───────────┘},\n",
       " <zfit.Parameter 'alpha' floating=True value=1.284>: {'value': 1.2842508041116019,\n",
       "  'minuit_minos': ┌──────────┬───────────────────────┐\n",
       "│          │         alpha         │\n",
       "├──────────┼───────────┬───────────┤\n",
       "│  Error   │   -0.01   │   0.01    │\n",
       "│  Valid   │   True    │   True    │\n",
       "│ At Limit │   False   │   False   │\n",
       "│ Max FCN  │   False   │   False   │\n",
       "│ New Min  │   False   │   False   │\n",
       "└──────────┴───────────┴───────────┘},\n",
       " <zfit.Parameter 'mean2' floating=True value=3.094>: {'value': 3.0941766261872616,\n",
       "  'minuit_minos': ┌──────────┬───────────────────────┐\n",
       "│          │         mean2         │\n",
       "├──────────┼───────────┬───────────┤\n",
       "│  Error   │ -0.06e-3  │  0.06e-3  │\n",
       "│  Valid   │   True    │   True    │\n",
       "│ At Limit │   False   │   False   │\n",
       "│ Max FCN  │   False   │   False   │\n",
       "│ New Min  │   False   │   False   │\n",
       "└──────────┴───────────┴───────────┘},\n",
       " <zfit.Parameter 'n_sig' floating=True value=100>: {'value': 99.99944278158675,\n",
       "  'minuit_minos': ┌──────────┬───────────────────────┐\n",
       "│          │         n_sig         │\n",
       "├──────────┼───────────┬───────────┤\n",
       "│  Error   │-13519.0e-3│  0.6e-3   │\n",
       "│  Valid   │   True    │   True    │\n",
       "│ At Limit │   False   │   True    │\n",
       "│ Max FCN  │   False   │   False   │\n",
       "│ New Min  │   False   │   False   │\n",
       "└──────────┴───────────┴───────────┘},\n",
       " <zfit.Parameter 'sigma2' floating=True value=0.02823>: {'value': 0.028225665677684697,\n",
       "  'minuit_minos': ┌──────────┬───────────────────────┐\n",
       "│          │        sigma2         │\n",
       "├──────────┼───────────┬───────────┤\n",
       "│  Error   │ -0.06e-3  │  0.06e-3  │\n",
       "│  Valid   │   True    │   True    │\n",
       "│ At Limit │   False   │   False   │\n",
       "│ Max FCN  │   False   │   False   │\n",
       "│ New Min  │   False   │   False   │\n",
       "└──────────┴───────────┴───────────┘},\n",
       " <zfit.Parameter 'lambda' floating=True value=-1.267>: {'value': -1.2669466535870195,\n",
       "  'minuit_minos': ┌──────────┬───────────────────────┐\n",
       "│          │        lambda         │\n",
       "├──────────┼───────────┬───────────┤\n",
       "│  Error   │   -0.07   │   0.07    │\n",
       "│  Valid   │   True    │   True    │\n",
       "│ At Limit │   False   │   False   │\n",
       "│ Max FCN  │   False   │   False   │\n",
       "│ New Min  │   False   │   False   │\n",
       "└──────────┴───────────┴───────────┘}}"
      ]
     },
     "execution_count": 7,
     "metadata": {},
     "output_type": "execute_result"
    }
   ],
   "source": [
    "result.params"
   ]
  },
  {
   "cell_type": "code",
   "execution_count": null,
   "metadata": {},
   "outputs": [],
   "source": [
    "size_normal = 800000\n",
    "data_normal_np = np.random.normal(size=size_normal, scale=2)"
   ]
  },
  {
   "cell_type": "code",
   "execution_count": null,
   "metadata": {},
   "outputs": [],
   "source": [
    "def plot_model(model, data, scale=1, plot_data=True):  # we will use scale later on\n",
    "\n",
    "    nbins = 100\n",
    "\n",
    "    lower, upper = data.data_range.limit1d\n",
    "    x = tf.linspace(lower, upper, num=1000)  # np.linspace also works\n",
    "    y = model.pdf(x) * size_normal / nbins * data.data_range.area()\n",
    "    y *= scale\n",
    "    plt.plot(x, y)\n",
    "    data_plot = zfit.run(z.unstack_x(data))  # we could also use the `to_pandas` method\n",
    "    if plot_data:\n",
    "        plt.hist(data_plot, bins=nbins)"
   ]
  },
  {
   "cell_type": "code",
   "execution_count": null,
   "metadata": {},
   "outputs": [],
   "source": [
    "minimizer = zfit.minimize.Minuit(use_minuit_grad=True)"
   ]
  },
  {
   "cell_type": "code",
   "execution_count": null,
   "metadata": {},
   "outputs": [],
   "source": [
    "# Loss to combine model and data\n",
    "\n",
    "nll_gauss = zfit.loss.UnbinnedNLL(gauss, datafit)"
   ]
  },
  {
   "cell_type": "code",
   "execution_count": null,
   "metadata": {},
   "outputs": [],
   "source": [
    "# Minimization using Minuit\n",
    "minimizer = zfit.minimize.Minuit(use_minuit_grad=True)\n"
   ]
  },
  {
   "cell_type": "code",
   "execution_count": null,
   "metadata": {},
   "outputs": [],
   "source": [
    "minimizer.minimize(nll_gauss)"
   ]
  },
  {
   "cell_type": "code",
   "execution_count": null,
   "metadata": {},
   "outputs": [],
   "source": [
    "plot_model(gauss, datafit, plot_data=True )"
   ]
  },
  {
   "cell_type": "code",
   "execution_count": null,
   "metadata": {},
   "outputs": [],
   "source": [
    "import numpy as np\n",
    "import zfit\n",
    "import matplotlib.pyplot as plt\n",
    "\n",
    "# create space\n",
    "obs = zfit.Space(\"x\", limits=(-10, 10))\n",
    "\n",
    "# parameters\n",
    "mu2 = zfit.Parameter(\"mu2\", 1., -4, 6)\n",
    "sigma2 = zfit.Parameter(\"sigma2\", 1., 0.1, 10)\n",
    "lambd = zfit.Parameter(\"lambda\", -0.06, -1, -0.01)\n",
    "frac = zfit.Parameter(\"fraction\", 0.3, 0, 1)\n",
    "\n",
    "# model building, pdf creation\n",
    "gauss = zfit.pdf.Gauss(mu=mu2, sigma=sigma2, obs=obs)\n",
    "exponential = zfit.pdf.Exponential(lambd, obs=obs)\n",
    "model = zfit.pdf.SumPDF([gauss, exponential], fracs=frac)\n",
    "\n",
    "# data\n",
    "n_sample = 10000\n",
    "\n",
    "exp_data = exponential.sample(n=n_sample * (1 - frac)).numpy()\n",
    "\n",
    "gauss_data = gauss.sample(n=n_sample * frac).numpy()\n",
    "\n",
    "data = model.create_sampler(n_sample, limits=obs)\n",
    "data.resample()\n",
    "\n",
    "mu2.set_value(0.5)\n",
    "sigma2.set_value(1.2)\n",
    "lambd.set_value(-0.05)\n",
    "frac.set_value(0.07)\n",
    "\n",
    "# plot the data\n",
    "data_np = data[:, 0].numpy()\n",
    "color = 'black'\n",
    "n_bins = 50\n",
    "\n",
    "linewidth = 2.5\n",
    "plot_scaling = n_sample / n_bins * obs.area()\n",
    "\n",
    "x = np.linspace(-10, 10, 1000)\n",
    "\n",
    "# plot the pdf BEFORE fitting\n",
    "plt.figure()\n",
    "plt.title(\"Before fitting\")\n",
    "# plot the data\n",
    "plt.hist(data_np, color=color, bins=n_bins, histtype=\"stepfilled\", alpha=0.1)\n",
    "plt.hist(data_np, color=color, bins=n_bins, histtype=\"step\")\n",
    "# plot the pdfs\n",
    "y = model.pdf(x).numpy()\n",
    "y_gauss = (gauss.pdf(x) * frac).numpy()  # notice the frac!\n",
    "y_exp = (exponential.pdf(x) * (1 - frac)).numpy()  # notice the frac!"
   ]
  },
  {
   "cell_type": "code",
   "execution_count": null,
   "metadata": {},
   "outputs": [],
   "source": [
    "#plt.plot(x, y * plot_scaling, label=\"Sum - Model\", linewidth=linewidth * 2)\n",
    "plt.plot(x, y_gauss * plot_scaling, '--', label=\"Gauss - Signal\", linewidth=linewidth)\n",
    "#plt.plot(x, y_exp * plot_scaling, '--', label=\"Exponential - Background\", linewidth=linewidth)\n",
    "plt.xlabel(\"Physical observable\")\n",
    "plt.legend()"
   ]
  },
  {
   "cell_type": "code",
   "execution_count": null,
   "metadata": {},
   "outputs": [],
   "source": [
    "# create NLL\n",
    "nll = zfit.loss.UnbinnedNLL(model=model, data=data)\n",
    "\n",
    "# create a minimizer\n",
    "minimizer = zfit.minimize.Minuit()\n",
    "result = minimizer.minimize(nll)\n",
    "\n",
    "# do the error calculations, here with minos\n",
    "param_errors, _ = result.errors()"
   ]
  },
  {
   "cell_type": "code",
   "execution_count": 3,
   "metadata": {},
   "outputs": [
    {
     "name": "stdout",
     "output_type": "stream",
     "text": [
      "WARNING:tensorflow:5 out of the last 5 calls to <function BaseModel.sample.<locals>.run_tf at 0x7f8c70eddd90> triggered tf.function retracing. Tracing is expensive and the excessive number of tracings could be due to (1) creating @tf.function repeatedly in a loop, (2) passing tensors with different shapes, (3) passing Python objects instead of tensors. For (1), please define your @tf.function outside of the loop. For (2), @tf.function has experimental_relax_shapes=True option that relaxes argument shapes that can avoid unnecessary retracing. For (3), please refer to https://www.tensorflow.org/tutorials/customization/performance#python_or_tensor_args and https://www.tensorflow.org/api_docs/python/tf/function for  more details.\n",
      "WARNING:tensorflow:6 out of the last 6 calls to <function BaseModel.sample.<locals>.run_tf at 0x7f8c70e8be18> triggered tf.function retracing. Tracing is expensive and the excessive number of tracings could be due to (1) creating @tf.function repeatedly in a loop, (2) passing tensors with different shapes, (3) passing Python objects instead of tensors. For (1), please define your @tf.function outside of the loop. For (2), @tf.function has experimental_relax_shapes=True option that relaxes argument shapes that can avoid unnecessary retracing. For (3), please refer to https://www.tensorflow.org/tutorials/customization/performance#python_or_tensor_args and https://www.tensorflow.org/api_docs/python/tf/function for  more details.\n"
     ]
    },
    {
     "name": "stderr",
     "output_type": "stream",
     "text": [
      "/afs/cern.ch/user/m/mabarros/miniconda3/envs/OniaOpenCharmRun2ULenv/lib/python3.7/site-packages/ipykernel_launcher.py:42: UserWarning: The function <function Space.area at 0x7f8d10e55598> may does not return the actual area/limits but rather the rectangular limits. <zfit Space obs=('x',), axes=None, limits=(array([[-10.]]), array([[10.]]))> can also have functional limits that are arbitrarily defined and lay inside the rect_limits. To test if a value is inside, use `inside` or `filter`.\n"
     ]
    },
    {
     "name": "stdout",
     "output_type": "stream",
     "text": [
      "┌──────────────────────────────────┬──────────────────────────────────────┐\n",
      "│ FCN = 2.814e+04                  │        Nfcn = 131 (131 total)        │\n",
      "│ EDM = 7.46e-07 (Goal: 0.001)     │                                      │\n",
      "├───────────────┬──────────────────┼──────────────────────────────────────┤\n",
      "│ Valid Minimum │ Valid Parameters │        No Parameters at limit        │\n",
      "├───────────────┴──────────────────┼──────────────────────────────────────┤\n",
      "│ Below EDM threshold (goal x 10)  │           Below call limit           │\n",
      "├───────────────┬──────────────────┼───────────┬─────────────┬────────────┤\n",
      "│   Hesse ok    │  Has Covariance  │ Accurate  │  Pos. def.  │ Not forced │\n",
      "└───────────────┴──────────────────┴───────────┴─────────────┴────────────┘\n"
     ]
    },
    {
     "name": "stderr",
     "output_type": "stream",
     "text": [
      "/afs/cern.ch/user/m/mabarros/miniconda3/envs/OniaOpenCharmRun2ULenv/lib/python3.7/site-packages/zfit/minimizers/fitresult.py:360: FutureWarning: 'minuit_minos' will be changed as the default errors method to a custom implementationwith the same functionality. If you want to make sure that 'minuit_minos' will be used in the future, add it explicitly as in `errors(method='minuit_minos')`\n",
      "  \"in the future, add it explicitly as in `errors(method='minuit_minos')`\", FutureWarning)\n"
     ]
    },
    {
     "data": {
      "text/plain": [
       "(array([234., 238., 240., 231., 199., 216., 204., 212., 202., 184., 187.,\n",
       "        181., 174., 179., 188., 174., 160., 145., 120., 159., 148., 161.,\n",
       "        172., 263., 359., 472., 559., 600., 560., 480., 392., 261., 192.,\n",
       "        138.,  98.,  98.,  93.,  90., 104.,  85.,  92.,  92.,  96.,  97.,\n",
       "         87.,  87.,  76.,  70.,  70.,  81.]),\n",
       " array([-9.99905751e+00, -9.59914814e+00, -9.19923877e+00, -8.79932940e+00,\n",
       "        -8.39942003e+00, -7.99951065e+00, -7.59960128e+00, -7.19969191e+00,\n",
       "        -6.79978254e+00, -6.39987317e+00, -5.99996380e+00, -5.60005442e+00,\n",
       "        -5.20014505e+00, -4.80023568e+00, -4.40032631e+00, -4.00041694e+00,\n",
       "        -3.60050757e+00, -3.20059819e+00, -2.80068882e+00, -2.40077945e+00,\n",
       "        -2.00087008e+00, -1.60096071e+00, -1.20105134e+00, -8.01141964e-01,\n",
       "        -4.01232592e-01, -1.32322027e-03,  3.98586151e-01,  7.98495523e-01,\n",
       "         1.19840489e+00,  1.59831427e+00,  1.99822364e+00,  2.39813301e+00,\n",
       "         2.79804238e+00,  3.19795175e+00,  3.59786112e+00,  3.99777050e+00,\n",
       "         4.39767987e+00,  4.79758924e+00,  5.19749861e+00,  5.59740798e+00,\n",
       "         5.99731736e+00,  6.39722673e+00,  6.79713610e+00,  7.19704547e+00,\n",
       "         7.59695484e+00,  7.99686421e+00,  8.39677359e+00,  8.79668296e+00,\n",
       "         9.19659233e+00,  9.59650170e+00,  9.99641107e+00]),\n",
       " [<matplotlib.patches.Polygon at 0x7f8c70d99f98>])"
      ]
     },
     "execution_count": 3,
     "metadata": {},
     "output_type": "execute_result"
    },
    {
     "data": {
      "image/png": "[encoded data removed]",
      "text/plain": [
       "<Figure size 432x288 with 1 Axes>"
      ]
     },
     "metadata": {
      "needs_background": "light"
     },
     "output_type": "display_data"
    },
    {
     "data": {
      "image/png": "[encoded data removed]",
      "text/plain": [
       "<Figure size 432x288 with 1 Axes>"
      ]
     },
     "metadata": {
      "needs_background": "light"
     },
     "output_type": "display_data"
    }
   ],
   "source": [
    "#  Copyright (c) 2020 zfit\n",
    "\n",
    "import numpy as np\n",
    "import zfit\n",
    "import matplotlib.pyplot as plt\n",
    "\n",
    "# create space\n",
    "obs = zfit.Space(\"x\", limits=(-10, 10))\n",
    "\n",
    "# parameters\n",
    "mu = zfit.Parameter(\"mu\", 1., -4, 6)\n",
    "sigma = zfit.Parameter(\"sigma\", 1., 0.1, 10)\n",
    "lambd = zfit.Parameter(\"lambda\", -0.06, -1, -0.01)\n",
    "frac = zfit.Parameter(\"fraction\", 0.3, 0, 1)\n",
    "\n",
    "# model building, pdf creation\n",
    "gauss = zfit.pdf.Gauss(mu=mu, sigma=sigma, obs=obs)\n",
    "exponential = zfit.pdf.Exponential(lambd, obs=obs)\n",
    "model = zfit.pdf.SumPDF([gauss, exponential], fracs=frac)\n",
    "\n",
    "# data\n",
    "n_sample = 10000\n",
    "\n",
    "exp_data = exponential.sample(n=n_sample * (1 - frac)).numpy()\n",
    "\n",
    "gauss_data = gauss.sample(n=n_sample * frac).numpy()\n",
    "\n",
    "data = model.create_sampler(n_sample, limits=obs)\n",
    "data.resample()\n",
    "\n",
    "mu.set_value(0.5)\n",
    "sigma.set_value(1.2)\n",
    "lambd.set_value(-0.05)\n",
    "frac.set_value(0.07)\n",
    "\n",
    "# plot the data\n",
    "data_np = data[:, 0].numpy()\n",
    "color = 'black'\n",
    "n_bins = 50\n",
    "\n",
    "linewidth = 2.5\n",
    "plot_scaling = n_sample / n_bins * obs.area()\n",
    "\n",
    "x = np.linspace(-10, 10, 1000)\n",
    "\n",
    "# plot the pdf BEFORE fitting\n",
    "plt.figure()\n",
    "plt.title(\"Before fitting\")\n",
    "# plot the data\n",
    "plt.hist(data_np, color=color, bins=n_bins, histtype=\"stepfilled\", alpha=0.1)\n",
    "plt.hist(data_np, color=color, bins=n_bins, histtype=\"step\")\n",
    "# plot the pdfs\n",
    "y = model.pdf(x).numpy()\n",
    "y_gauss = (gauss.pdf(x) * frac).numpy()  # notice the frac!\n",
    "y_exp = (exponential.pdf(x) * (1 - frac)).numpy()  # notice the frac!\n",
    "\n",
    "plt.plot(x, y * plot_scaling, label=\"Sum - Model\", linewidth=linewidth * 2)\n",
    "plt.plot(x, y_gauss * plot_scaling, '--', label=\"Gauss - Signal\", linewidth=linewidth)\n",
    "plt.plot(x, y_exp * plot_scaling, '--', label=\"Exponential - Background\", linewidth=linewidth)\n",
    "plt.xlabel(\"Physical observable\")\n",
    "plt.legend()\n",
    "\n",
    "# create NLL\n",
    "nll = zfit.loss.UnbinnedNLL(model=model, data=data)\n",
    "\n",
    "# create a minimizer\n",
    "minimizer = zfit.minimize.Minuit()\n",
    "result = minimizer.minimize(nll)\n",
    "\n",
    "# do the error calculations, here with minos\n",
    "param_errors, _ = result.errors()\n",
    "\n",
    "plt.figure()\n",
    "plt.title(\"After fitting\")\n",
    "# plot the data\n",
    "plt.hist(data_np, color=color, bins=n_bins, histtype=\"stepfilled\", alpha=0.1)\n",
    "plt.hist(data_np, color=color, bins=n_bins, histtype=\"step\")\n",
    "\n",
    "\n",
    "\n",
    "# plt.show()"
   ]
  },
  {
   "cell_type": "code",
   "execution_count": 5,
   "metadata": {},
   "outputs": [
    {
     "data": {
      "text/plain": [
       "<matplotlib.legend.Legend at 0x7f8c70b0f7b8>"
      ]
     },
     "execution_count": 5,
     "metadata": {},
     "output_type": "execute_result"
    },
    {
     "data": {
      "image/png": "[encoded data removed]",
      "text/plain": [
       "<Figure size 432x288 with 1 Axes>"
      ]
     },
     "metadata": {
      "needs_background": "light"
     },
     "output_type": "display_data"
    }
   ],
   "source": [
    "n_bins = 20\n",
    "\n",
    "linewidth = 2.5\n",
    "plot_scaling = n_sample / n_bins * obs.area()\n",
    "y = model.pdf(x).numpy()  # rerun now after the fitting\n",
    "y_gauss = (gauss.pdf(x) * frac).numpy()\n",
    "y_exp = (exponential.pdf(x) * (1 - frac)).numpy()\n",
    "\n",
    "plt.plot(x, y * plot_scaling, label=\"Sum - Model\", linewidth=linewidth * 2)\n",
    "plt.plot(x, y_gauss * plot_scaling, '--', label=\"Gauss - Signal\", linewidth=linewidth)\n",
    "plt.plot(x, y_exp * plot_scaling, '--', label=\"Exponential - Background\", linewidth=linewidth)\n",
    "plt.xlabel(\"Physical observable\")\n",
    "plt.legend()"
   ]
  },
  {
   "cell_type": "code",
   "execution_count": null,
   "metadata": {},
   "outputs": [],
   "source": []
  }
 ],
 "metadata": {
  "kernelspec": {
   "display_name": "Python 3",
   "language": "python",
   "name": "python3"
  },
  "language_info": {
   "codemirror_mode": {
    "name": "ipython",
    "version": 3
   },
   "file_extension": ".py",
   "mimetype": "text/x-python",
   "name": "python",
   "nbconvert_exporter": "python",
   "pygments_lexer": "ipython3",
   "version": "3.7.0"
  }
 },
 "nbformat": 4,
 "nbformat_minor": 4
}
